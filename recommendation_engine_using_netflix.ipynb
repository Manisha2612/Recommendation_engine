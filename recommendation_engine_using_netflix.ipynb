{
 "cells": [
  {
   "cell_type": "code",
   "execution_count": 62,
   "metadata": {},
   "outputs": [],
   "source": [
    "import pandas as pd\n",
    "import numpy as np\n",
    "import math\n",
    "import re\n",
    "from scipy.sparse import csr_matrix\n",
    "import matplotlib.pyplot as plt\n",
    "import seaborn as sns\n",
    "from tqdm import tqdm\n",
    "import warnings\n",
    "warnings.filterwarnings(\"ignore\")"
   ]
  },
  {
   "cell_type": "code",
   "execution_count": 63,
   "metadata": {},
   "outputs": [],
   "source": [
    "df = pd.read_csv('combined_data_1.txt', names = [\"Cust_Id\",\"Rating\"],usecols = [0,1] ,nrows=2000)\n",
    "tqdm.pandas()\n",
    "df['Rating'] = df['Rating'].astype(float)\n",
    "last_row_index=df.shape[0]"
   ]
  },
  {
   "cell_type": "code",
   "execution_count": 64,
   "metadata": {},
   "outputs": [
    {
     "data": {
      "image/png": "[encoded data removed]",
      "text/plain": [
       "<Figure size 432x288 with 1 Axes>"
      ]
     },
     "metadata": {
      "needs_background": "light"
     },
     "output_type": "display_data"
    }
   ],
   "source": [
    "\n",
    "#view data\n",
    "\n",
    "ax = sns.countplot(x=\"Rating\", data=df)\n",
    "plt.title('Data provided for each rating', fontsize=11)\n",
    "total = float(len(df))\n",
    "for p in ax.patches:\n",
    "    percentage = '{:.1f}%'.format(100 * p.get_height()/total)\n",
    "    x = p.get_x() + p.get_width()\n",
    "    y = p.get_height()\n",
    "    ax.annotate(percentage, (x, y),ha='center')\n",
    "plt.show()"
   ]
  },
  {
   "cell_type": "code",
   "execution_count": 65,
   "metadata": {},
   "outputs": [
    {
     "name": "stdout",
     "output_type": "stream",
     "text": [
      "(1997, 2)\n",
      "(2000, 2)\n"
     ]
    }
   ],
   "source": [
    "customer_df = df[pd.notnull(df['Rating'])]\n",
    "print(customer_df.shape)\n",
    "print(df.shape)"
   ]
  },
  {
   "cell_type": "code",
   "execution_count": 66,
   "metadata": {},
   "outputs": [
    {
     "name": "stdout",
     "output_type": "stream",
     "text": [
      "total no of movies 3\n",
      "row containing movieid [  0 548 694]\n"
     ]
    }
   ],
   "source": [
    "# adding moviesid column in customer_df\n",
    "movie_np = np.array([])\n",
    "# get movie count\n",
    "movie_count = df.isnull().sum()[1]\n",
    "print('total no of movies',movie_count)\n",
    "#get all the movie id where Rating column value is none\n",
    "df_nan = pd.DataFrame(pd.isnull(df.Rating))\n",
    "df_nan = df_nan[df_nan['Rating'] == True]\n",
    "df_nan = df_nan.reset_index()\n",
    "movie_id_collection=df_nan['index'].to_numpy()\n",
    "print('row containing movieid',movie_id_collection)"
   ]
  },
  {
   "cell_type": "code",
   "execution_count": 67,
   "metadata": {},
   "outputs": [
    {
     "name": "stdout",
     "output_type": "stream",
     "text": [
      "[['1:']\n",
      " ['2:']\n",
      " ['3:']]\n"
     ]
    }
   ],
   "source": [
    "mov_ar=df.loc[movie_id_collection].to_numpy()\n",
    "mov_ar=np.delete(mov_ar,[1],1)\n",
    "print(mov_ar)"
   ]
  },
  {
   "cell_type": "code",
   "execution_count": 68,
   "metadata": {},
   "outputs": [
    {
     "name": "stderr",
     "output_type": "stream",
     "text": [
      "100%|██████████| 3/3 [00:00<00:00, 2909.34it/s]\n"
     ]
    }
   ],
   "source": [
    "#replace values in movie_np with actual movie ID\n",
    "start=0\n",
    "end=0\n",
    "for i in tqdm(range(len(movie_id_collection))):\n",
    "    row_id=movie_id_collection[i]\n",
    "    movie_id=mov_ar[i][0]\n",
    "    movie_id=movie_id.strip(':')\n",
    "    \n",
    "    start=movie_id_collection[i]+1\n",
    "    if i!=len(movie_id_collection)-1:\n",
    "        end=movie_id_collection[i+1]-1\n",
    "    else:\n",
    "        end=last_row_index-1\n",
    "    movie=np.array([movie_id]*(end-start+1))\n",
    "    movie_np=np.append( movie_np , movie )"
   ]
  },
  {
   "cell_type": "code",
   "execution_count": 69,
   "metadata": {},
   "outputs": [
    {
     "name": "stdout",
     "output_type": "stream",
     "text": [
      "(1997,)\n",
      "(1997, 2)\n"
     ]
    }
   ],
   "source": [
    "print(movie_np.shape)\n",
    "print(customer_df.shape)"
   ]
  },
  {
   "cell_type": "code",
   "execution_count": 70,
   "metadata": {},
   "outputs": [],
   "source": [
    "customer_df['Movies_Id']=movie_np.astype(int)\n",
    "\n"
   ]
  },
  {
   "cell_type": "code",
   "execution_count": 71,
   "metadata": {},
   "outputs": [
    {
     "name": "stdout",
     "output_type": "stream",
     "text": [
      "    Cust_Id  Rating  Movies_Id\n",
      "1   1488844     3.0          1\n",
      "2    822109     5.0          1\n",
      "3    885013     4.0          1\n",
      "4     30878     4.0          1\n",
      "5    823519     3.0          1\n",
      "6    893988     3.0          1\n",
      "7    124105     4.0          1\n",
      "8   1248029     3.0          1\n",
      "9   1842128     4.0          1\n",
      "10  2238063     3.0          1\n",
      "11  1503895     4.0          1\n",
      "12  2207774     5.0          1\n",
      "13  2590061     3.0          1\n",
      "14     2442     3.0          1\n",
      "15   543865     4.0          1\n",
      "16  1209119     4.0          1\n",
      "17   804919     4.0          1\n",
      "18  1086807     3.0          1\n",
      "19  1711859     4.0          1\n",
      "20   372233     5.0          1\n",
      "21  1080361     3.0          1\n",
      "22  1245640     3.0          1\n",
      "23   558634     4.0          1\n",
      "24  2165002     4.0          1\n",
      "25  1181550     3.0          1\n",
      "26  1227322     4.0          1\n",
      "27   427928     4.0          1\n",
      "28   814701     5.0          1\n",
      "29   808731     4.0          1\n",
      "30   662870     5.0          1\n",
      "31   337541     5.0          1\n",
      "32   786312     3.0          1\n",
      "33  1133214     4.0          1\n",
      "34  1537427     4.0          1\n",
      "35  1209954     5.0          1\n",
      "36  2381599     3.0          1\n",
      "37   525356     2.0          1\n",
      "38  1910569     4.0          1\n",
      "39  2263586     4.0          1\n",
      "40  2421815     2.0          1\n",
      "41  1009622     1.0          1\n",
      "42  1481961     2.0          1\n",
      "43   401047     4.0          1\n",
      "44  2179073     3.0          1\n",
      "45  1434636     3.0          1\n",
      "46    93986     5.0          1\n",
      "47  1308744     5.0          1\n",
      "48  2647871     4.0          1\n",
      "49  1905581     5.0          1\n",
      "50  2508819     3.0          1\n"
     ]
    }
   ],
   "source": [
    "print(customer_df.head(50))"
   ]
  },
  {
   "cell_type": "code",
   "execution_count": 72,
   "metadata": {},
   "outputs": [
    {
     "name": "stdout",
     "output_type": "stream",
     "text": [
      "Movies with minimum review: 926.0\n",
      "Customers with minimum times of review: 1.0\n"
     ]
    }
   ],
   "source": [
    "#Data Slicing\n",
    "cols = ['count','mean']\n",
    "\n",
    "df_movie_data = customer_df.groupby('Movies_Id')['Rating'].agg(cols)\n",
    "#print(df_movie_data)\n",
    "movie_benchmark = round(df_movie_data['count'].quantile(0.75),0)\n",
    "drop_movie_list = df_movie_data[df_movie_data['count'] < movie_benchmark].index\n",
    "\n",
    "print('Movies with minimum review: {}'.format(movie_benchmark))\n",
    "\n",
    "df_cust_data= customer_df.groupby('Cust_Id')['Rating'].agg(cols)\n",
    "#print(df_cust_data)\n",
    "df_cust_data.index = df_cust_data.index.map(int)\n",
    "cust_benchmark = round(df_cust_data['count'].quantile(0.75),0)\n",
    "drop_cust_list = df_cust_data[df_cust_data['count'] < cust_benchmark].index\n",
    "\n",
    "print('Customers with minimum times of review: {}'.format(cust_benchmark))"
   ]
  },
  {
   "cell_type": "code",
   "execution_count": 73,
   "metadata": {},
   "outputs": [
    {
     "name": "stdout",
     "output_type": "stream",
     "text": [
      "Original Shape: (1997, 3)\n",
      "After Trim Shape: (1305, 3)\n",
      "      Cust_Id  Rating  Movies_Id\n",
      "695   1025579     4.0          3\n",
      "696    712664     5.0          3\n",
      "697   1331154     4.0          3\n",
      "698   2632461     3.0          3\n",
      "699     44937     5.0          3\n",
      "...       ...     ...        ...\n",
      "1995  2164873     4.0          3\n",
      "1996  2503577     2.0          3\n",
      "1997   216174     3.0          3\n",
      "1998  1268000     3.0          3\n",
      "1999  1854660     1.0          3\n",
      "\n",
      "[1305 rows x 3 columns]\n"
     ]
    }
   ],
   "source": [
    "print('Original Shape: {}'.format(customer_df.shape))\n",
    "\n",
    "customer_df = customer_df[~customer_df['Movies_Id'].isin(drop_movie_list)]\n",
    "customer_df = customer_df[~customer_df['Cust_Id'].isin(drop_cust_list)]\n",
    "print('After Trim Shape: {}'.format(customer_df.shape))\n",
    "print(customer_df)"
   ]
  },
  {
   "cell_type": "code",
   "execution_count": null,
   "metadata": {},
   "outputs": [],
   "source": []
  }
 ],
 "metadata": {
  "kernelspec": {
   "display_name": "Python 3",
   "language": "python",
   "name": "python3"
  },
  "language_info": {
   "codemirror_mode": {
    "name": "ipython",
    "version": 3
   },
   "file_extension": ".py",
   "mimetype": "text/x-python",
   "name": "python",
   "nbconvert_exporter": "python",
   "pygments_lexer": "ipython3",
   "version": "3.7.4"
  }
 },
 "nbformat": 4,
 "nbformat_minor": 4
}
